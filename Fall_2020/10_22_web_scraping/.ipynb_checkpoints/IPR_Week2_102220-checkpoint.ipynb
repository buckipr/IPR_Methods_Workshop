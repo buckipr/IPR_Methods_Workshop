{
 "cells": [
  {
   "cell_type": "code",
   "execution_count": 1,
   "metadata": {},
   "outputs": [],
   "source": [
    "import pandas as pd\n",
    "import numpy as np\n",
    "import seaborn as sns\n",
    "import matplotlib.pyplot as plt\n",
    "%matplotlib inline"
   ]
  },
  {
   "cell_type": "code",
   "execution_count": 2,
   "metadata": {},
   "outputs": [],
   "source": [
    "data = pd.read_csv(\"https://raw.githubusercontent.com/buckipr/Python/master/IPR_cleaned.csv\")"
   ]
  },
  {
   "cell_type": "code",
   "execution_count": 3,
   "metadata": {},
   "outputs": [
    {
     "data": {
      "text/html": [
       "<div>\n",
       "<style scoped>\n",
       "    .dataframe tbody tr th:only-of-type {\n",
       "        vertical-align: middle;\n",
       "    }\n",
       "\n",
       "    .dataframe tbody tr th {\n",
       "        vertical-align: top;\n",
       "    }\n",
       "\n",
       "    .dataframe thead th {\n",
       "        text-align: right;\n",
       "    }\n",
       "</style>\n",
       "<table border=\"1\" class=\"dataframe\">\n",
       "  <thead>\n",
       "    <tr style=\"text-align: right;\">\n",
       "      <th></th>\n",
       "      <th>OBJECTID</th>\n",
       "      <th>StopId</th>\n",
       "      <th>StopName</th>\n",
       "      <th>Lat</th>\n",
       "      <th>Lon</th>\n",
       "      <th>Lat_front</th>\n",
       "      <th>Lat_back</th>\n",
       "      <th>Lon_front</th>\n",
       "      <th>Lon_back</th>\n",
       "      <th>y</th>\n",
       "      <th>x</th>\n",
       "      <th>Bethel</th>\n",
       "      <th>Over4000</th>\n",
       "    </tr>\n",
       "  </thead>\n",
       "  <tbody>\n",
       "    <tr>\n",
       "      <th>0</th>\n",
       "      <td>1</td>\n",
       "      <td>5217</td>\n",
       "      <td>PICKFORDE DR &amp; BETHEL RD</td>\n",
       "      <td>40065959</td>\n",
       "      <td>-83086596</td>\n",
       "      <td>40</td>\n",
       "      <td>65959</td>\n",
       "      <td>-83</td>\n",
       "      <td>86596</td>\n",
       "      <td>40.065959</td>\n",
       "      <td>-83.086596</td>\n",
       "      <td>1.0</td>\n",
       "      <td>1.0</td>\n",
       "    </tr>\n",
       "    <tr>\n",
       "      <th>1</th>\n",
       "      <td>2</td>\n",
       "      <td>6845</td>\n",
       "      <td>2425 BETHEL RD</td>\n",
       "      <td>40064526</td>\n",
       "      <td>-83084106</td>\n",
       "      <td>40</td>\n",
       "      <td>64526</td>\n",
       "      <td>-83</td>\n",
       "      <td>84106</td>\n",
       "      <td>40.064526</td>\n",
       "      <td>-83.084106</td>\n",
       "      <td>1.0</td>\n",
       "      <td>1.0</td>\n",
       "    </tr>\n",
       "    <tr>\n",
       "      <th>2</th>\n",
       "      <td>3</td>\n",
       "      <td>5225</td>\n",
       "      <td>BETHEL RD &amp; WOOD RUN BLVD</td>\n",
       "      <td>40064408</td>\n",
       "      <td>-83080785</td>\n",
       "      <td>40</td>\n",
       "      <td>64408</td>\n",
       "      <td>-83</td>\n",
       "      <td>80785</td>\n",
       "      <td>40.064408</td>\n",
       "      <td>-83.080785</td>\n",
       "      <td>1.0</td>\n",
       "      <td>1.0</td>\n",
       "    </tr>\n",
       "    <tr>\n",
       "      <th>3</th>\n",
       "      <td>4</td>\n",
       "      <td>5609</td>\n",
       "      <td>BETHEL RD &amp; HEDGEROW RD</td>\n",
       "      <td>40064300</td>\n",
       "      <td>-83077475</td>\n",
       "      <td>40</td>\n",
       "      <td>64300</td>\n",
       "      <td>-83</td>\n",
       "      <td>77475</td>\n",
       "      <td>40.064300</td>\n",
       "      <td>-83.077475</td>\n",
       "      <td>1.0</td>\n",
       "      <td>1.0</td>\n",
       "    </tr>\n",
       "    <tr>\n",
       "      <th>4</th>\n",
       "      <td>5</td>\n",
       "      <td>5218</td>\n",
       "      <td>BETHEL RD &amp; DIERKER RD</td>\n",
       "      <td>40064184</td>\n",
       "      <td>-83074360</td>\n",
       "      <td>40</td>\n",
       "      <td>64184</td>\n",
       "      <td>-83</td>\n",
       "      <td>74360</td>\n",
       "      <td>40.064184</td>\n",
       "      <td>-83.074360</td>\n",
       "      <td>1.0</td>\n",
       "      <td>1.0</td>\n",
       "    </tr>\n",
       "  </tbody>\n",
       "</table>\n",
       "</div>"
      ],
      "text/plain": [
       "   OBJECTID  StopId                   StopName       Lat       Lon  Lat_front  \\\n",
       "0         1    5217   PICKFORDE DR & BETHEL RD  40065959 -83086596         40   \n",
       "1         2    6845             2425 BETHEL RD  40064526 -83084106         40   \n",
       "2         3    5225  BETHEL RD & WOOD RUN BLVD  40064408 -83080785         40   \n",
       "3         4    5609    BETHEL RD & HEDGEROW RD  40064300 -83077475         40   \n",
       "4         5    5218     BETHEL RD & DIERKER RD  40064184 -83074360         40   \n",
       "\n",
       "   Lat_back  Lon_front  Lon_back          y          x  Bethel  Over4000  \n",
       "0     65959        -83     86596  40.065959 -83.086596     1.0       1.0  \n",
       "1     64526        -83     84106  40.064526 -83.084106     1.0       1.0  \n",
       "2     64408        -83     80785  40.064408 -83.080785     1.0       1.0  \n",
       "3     64300        -83     77475  40.064300 -83.077475     1.0       1.0  \n",
       "4     64184        -83     74360  40.064184 -83.074360     1.0       1.0  "
      ]
     },
     "execution_count": 3,
     "metadata": {},
     "output_type": "execute_result"
    }
   ],
   "source": [
    "data.head()"
   ]
  },
  {
   "cell_type": "code",
   "execution_count": 4,
   "metadata": {},
   "outputs": [
    {
     "data": {
      "text/plain": [
       "(30, 13)"
      ]
     },
     "execution_count": 4,
     "metadata": {},
     "output_type": "execute_result"
    }
   ],
   "source": [
    "data.shape"
   ]
  },
  {
   "cell_type": "code",
   "execution_count": 5,
   "metadata": {},
   "outputs": [
    {
     "name": "stdout",
     "output_type": "stream",
     "text": [
      "<class 'pandas.core.frame.DataFrame'>\n",
      "RangeIndex: 30 entries, 0 to 29\n",
      "Data columns (total 13 columns):\n",
      " #   Column     Non-Null Count  Dtype  \n",
      "---  ------     --------------  -----  \n",
      " 0   OBJECTID   30 non-null     int64  \n",
      " 1   StopId     30 non-null     int64  \n",
      " 2   StopName   30 non-null     object \n",
      " 3   Lat        30 non-null     int64  \n",
      " 4   Lon        30 non-null     int64  \n",
      " 5   Lat_front  30 non-null     int64  \n",
      " 6   Lat_back   30 non-null     int64  \n",
      " 7   Lon_front  30 non-null     int64  \n",
      " 8   Lon_back   30 non-null     int64  \n",
      " 9   y          30 non-null     float64\n",
      " 10  x          30 non-null     float64\n",
      " 11  Bethel     30 non-null     float64\n",
      " 12  Over4000   30 non-null     float64\n",
      "dtypes: float64(4), int64(8), object(1)\n",
      "memory usage: 3.2+ KB\n"
     ]
    }
   ],
   "source": [
    "data.info()"
   ]
  },
  {
   "cell_type": "code",
   "execution_count": 6,
   "metadata": {},
   "outputs": [],
   "source": [
    "from helium import *"
   ]
  },
  {
   "cell_type": "code",
   "execution_count": 99,
   "metadata": {},
   "outputs": [
    {
     "data": {
      "text/plain": [
       "<selenium.webdriver.chrome.webdriver.WebDriver (session=\"a7f1529ffb6e8c140639144da2920213\")>"
      ]
     },
     "execution_count": 99,
     "metadata": {},
     "output_type": "execute_result"
    }
   ],
   "source": [
    "start_chrome(\"https://geocoding.geo.census.gov/geocoder/geographies/coordinates?form\")"
   ]
  },
  {
   "cell_type": "code",
   "execution_count": 100,
   "metadata": {},
   "outputs": [],
   "source": [
    "click(\"x\")"
   ]
  },
  {
   "cell_type": "code",
   "execution_count": 101,
   "metadata": {},
   "outputs": [
    {
     "data": {
      "text/plain": [
       "-83.086596"
      ]
     },
     "execution_count": 101,
     "metadata": {},
     "output_type": "execute_result"
    }
   ],
   "source": [
    "data['x'][0]"
   ]
  },
  {
   "cell_type": "code",
   "execution_count": 102,
   "metadata": {},
   "outputs": [],
   "source": [
    "write(str(data['x'][0]))"
   ]
  },
  {
   "cell_type": "code",
   "execution_count": 103,
   "metadata": {},
   "outputs": [],
   "source": [
    "click(\"y\")"
   ]
  },
  {
   "cell_type": "code",
   "execution_count": 104,
   "metadata": {},
   "outputs": [],
   "source": [
    "write(str(data['y'][0]))"
   ]
  },
  {
   "cell_type": "code",
   "execution_count": 116,
   "metadata": {},
   "outputs": [],
   "source": [
    "click(\"Find\")"
   ]
  },
  {
   "cell_type": "code",
   "execution_count": 113,
   "metadata": {},
   "outputs": [
    {
     "name": "stdout",
     "output_type": "stream",
     "text": [
      "Geographies:\n",
      "2010 Census Blocks:\n",
      "SUFFIX:\n",
      "GEOID: 390490063951010\n",
      "CENTLAT: +40.0663314\n",
      "BLOCK: 1010\n",
      "AREAWATER: 0\n",
      "STATE: 39\n",
      "BASENAME: 1010\n",
      "OID: 210404059532693\n",
      "LSADC: BK\n",
      "FUNCSTAT: S\n",
      "INTPTLAT: +40.0663314\n",
      "NAME: Block 1010\n",
      "OBJECTID: 9515623\n",
      "TRACT: 006395\n",
      "CENTLON: -083.0898409\n",
      "BLKGRP: 1\n",
      "AREALAND: 191370\n",
      "INTPTLON: -083.0898409\n",
      "MTFCC: G5040\n",
      "LWBLKTYP: L\n",
      "COUNTY: 049\n",
      "States:\n",
      "STATENS: 01085497\n",
      "GEOID: 39\n",
      "CENTLAT: +40.4097282\n",
      "AREAWATER: 10274734580\n",
      "STATE: 39\n",
      "BASENAME: Ohio\n",
      "STUSAB: OH\n",
      "OID: 2749046634335\n",
      "LSADC: 00\n",
      "FUNCSTAT: A\n",
      "INTPTLAT: +40.4149297\n",
      "DIVISION: 3\n",
      "NAME: Ohio\n",
      "REGION: 2\n",
      "OBJECTID: 25\n",
      "CENTLON: -082.7168530\n",
      "AREALAND: 105823621558\n",
      "INTPTLON: -082.7119975\n",
      "MTFCC: G4000\n",
      "Counties:\n",
      "status: Layer query encountered an error: org.springframework.dao.DataRetrievalFailureException: ArcGIS Error: missing required element for GeoLookup\n",
      "Census Tracts:\n",
      "status: Layer query encountered an error: org.springframework.dao.DataRetrievalFailureException: ArcGIS Error: missing required element for GeoLookup\n"
     ]
    }
   ],
   "source": [
    "print(Text(\"2010 Census Blocks:\").value)"
   ]
  },
  {
   "cell_type": "code",
   "execution_count": 115,
   "metadata": {},
   "outputs": [
    {
     "data": {
      "text/plain": [
       "'TRACT: 006395'"
      ]
     },
     "execution_count": 115,
     "metadata": {},
     "output_type": "execute_result"
    }
   ],
   "source": [
    "Text(\"2010 Census Blocks:\").value.split(\"\\n\")[15]"
   ]
  },
  {
   "cell_type": "code",
   "execution_count": 72,
   "metadata": {},
   "outputs": [
    {
     "data": {
      "text/plain": [
       "'006395'"
      ]
     },
     "execution_count": 72,
     "metadata": {},
     "output_type": "execute_result"
    }
   ],
   "source": [
    "Text(\"2010 Census Blocks:\").value.split(\"\\n\")[15].split(\": \")[1]"
   ]
  },
  {
   "cell_type": "code",
   "execution_count": 73,
   "metadata": {},
   "outputs": [],
   "source": [
    "Tract = Text(\"2010 Census Blocks:\").value.split(\"\\n\")[15].split(\": \")[1]"
   ]
  },
  {
   "cell_type": "code",
   "execution_count": 118,
   "metadata": {},
   "outputs": [],
   "source": [
    "tract_list = []\n",
    "def get_tract(x, y):\n",
    "    start_chrome(\"https://geocoding.geo.census.gov/geocoder/geographies/coordinates?form\", headless=True)\n",
    "    click('x')\n",
    "    write(str(x))\n",
    "    click('y')\n",
    "    write(str(y))\n",
    "    click('Find')\n",
    "    if len(Text(\"2010 Census Blocks:\").value.split(\"\\n\")) < 16:\n",
    "        click('Find')\n",
    "    Tract = Text(\"2010 Census Blocks:\").value.split(\"\\n\")[15].split(\": \")[1]\n",
    "    tract_list.append(Tract)\n",
    "    kill_browser()"
   ]
  },
  {
   "cell_type": "code",
   "execution_count": 117,
   "metadata": {},
   "outputs": [],
   "source": [
    "kill_browser()"
   ]
  },
  {
   "cell_type": "code",
   "execution_count": 119,
   "metadata": {},
   "outputs": [],
   "source": [
    "get_tract(\"-83\", \"40\")"
   ]
  },
  {
   "cell_type": "code",
   "execution_count": 120,
   "metadata": {},
   "outputs": [
    {
     "data": {
      "text/plain": [
       "['001300']"
      ]
     },
     "execution_count": 120,
     "metadata": {},
     "output_type": "execute_result"
    }
   ],
   "source": [
    "tract_list"
   ]
  },
  {
   "cell_type": "code",
   "execution_count": 121,
   "metadata": {},
   "outputs": [
    {
     "name": "stdout",
     "output_type": "stream",
     "text": [
      "0\n",
      "1\n",
      "2\n",
      "3\n",
      "4\n",
      "5\n",
      "6\n",
      "7\n",
      "8\n",
      "9\n",
      "10\n",
      "11\n",
      "12\n",
      "13\n",
      "14\n",
      "15\n",
      "16\n",
      "17\n",
      "18\n",
      "19\n",
      "20\n",
      "21\n",
      "22\n",
      "23\n",
      "24\n",
      "25\n",
      "26\n",
      "27\n",
      "28\n",
      "29\n"
     ]
    }
   ],
   "source": [
    "for i in range(len(data)):\n",
    "    print(i)"
   ]
  },
  {
   "cell_type": "code",
   "execution_count": 122,
   "metadata": {},
   "outputs": [
    {
     "name": "stdout",
     "output_type": "stream",
     "text": [
      "Tract #0: 006395\n",
      "Tract #1: 006395\n",
      "Tract #2: 006353\n",
      "Tract #3: 006353\n",
      "Tract #4: 006353\n",
      "Tract #5: 006353\n",
      "Tract #6: 006351\n",
      "Tract #7: 006351\n",
      "Tract #8: 006351\n",
      "Tract #9: 006351\n",
      "Tract #10: 006351\n",
      "Tract #11: 006352\n",
      "Tract #12: 006352\n",
      "Tract #13: 006321\n",
      "Tract #14: 006321\n",
      "Tract #15: 006321\n",
      "Tract #16: 006321\n",
      "Tract #17: 006321\n",
      "Tract #18: 006323\n",
      "Tract #19: 007811\n",
      "Tract #20: 007811\n",
      "Tract #21: 007812\n",
      "Tract #22: 007812\n",
      "Tract #23: 007820\n",
      "Tract #24: 007820\n",
      "Tract #25: 007820\n",
      "Tract #26: 007820\n",
      "Tract #27: 007820\n",
      "Tract #28: 001122\n",
      "Tract #29: 001122\n"
     ]
    }
   ],
   "source": [
    "for i in range(len(data)):\n",
    "    get_tract(data['x'][i], data['y'][i])\n",
    "    print(f\"Iteration #{i}: {tract_list[-1]}\")"
   ]
  },
  {
   "cell_type": "code",
   "execution_count": 59,
   "metadata": {},
   "outputs": [
    {
     "data": {
      "text/plain": [
       "['001300',\n",
       " '006395',\n",
       " '006395',\n",
       " '006353',\n",
       " '006353',\n",
       " '006353',\n",
       " '006353',\n",
       " '006351',\n",
       " '006351',\n",
       " '006351',\n",
       " '006351',\n",
       " '006351',\n",
       " '006352',\n",
       " '006352',\n",
       " '006321',\n",
       " '006321',\n",
       " '006321',\n",
       " '006321',\n",
       " '006321']"
      ]
     },
     "execution_count": 59,
     "metadata": {},
     "output_type": "execute_result"
    }
   ],
   "source": [
    "tract_list"
   ]
  },
  {
   "cell_type": "code",
   "execution_count": 80,
   "metadata": {},
   "outputs": [
    {
     "data": {
      "text/plain": [
       "27"
      ]
     },
     "execution_count": 80,
     "metadata": {},
     "output_type": "execute_result"
    }
   ],
   "source": [
    "len(tract_list)"
   ]
  },
  {
   "cell_type": "code",
   "execution_count": null,
   "metadata": {},
   "outputs": [],
   "source": [
    "pd.DataFrame(tract_list)"
   ]
  },
  {
   "cell_type": "code",
   "execution_count": null,
   "metadata": {},
   "outputs": [],
   "source": [
    "data['tract'] = pd.DataFrame(tract_list)"
   ]
  },
  {
   "cell_type": "code",
   "execution_count": null,
   "metadata": {},
   "outputs": [],
   "source": [
    "data.head()"
   ]
  },
  {
   "cell_type": "code",
   "execution_count": null,
   "metadata": {},
   "outputs": [],
   "source": [
    "output = data[['StopId', \"x\", 'y', \"tract\"]]"
   ]
  },
  {
   "cell_type": "code",
   "execution_count": null,
   "metadata": {},
   "outputs": [],
   "source": [
    "output.to_csv(\"IPR_finaldata.csv\", index=False)"
   ]
  }
 ],
 "metadata": {
  "kernelspec": {
   "display_name": "Python 3",
   "language": "python",
   "name": "python3"
  },
  "language_info": {
   "codemirror_mode": {
    "name": "ipython",
    "version": 3
   },
   "file_extension": ".py",
   "mimetype": "text/x-python",
   "name": "python",
   "nbconvert_exporter": "python",
   "pygments_lexer": "ipython3",
   "version": "3.8.6+"
  }
 },
 "nbformat": 4,
 "nbformat_minor": 4
}
