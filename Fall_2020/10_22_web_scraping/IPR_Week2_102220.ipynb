{
 "cells": [
  {
   "cell_type": "code",
   "execution_count": 1,
   "metadata": {
    "execution": {
     "iopub.execute_input": "2020-11-06T17:41:31.969931Z",
     "iopub.status.busy": "2020-11-06T17:41:31.969240Z",
     "iopub.status.idle": "2020-11-06T17:41:32.699826Z",
     "shell.execute_reply": "2020-11-06T17:41:32.699191Z"
    }
   },
   "outputs": [],
   "source": [
    "import pandas as pd\n",
    "import numpy as np\n",
    "import seaborn as sns\n",
    "import matplotlib.pyplot as plt\n",
    "%matplotlib inline"
   ]
  },
  {
   "cell_type": "code",
   "execution_count": 2,
   "metadata": {
    "execution": {
     "iopub.execute_input": "2020-11-06T17:41:32.704433Z",
     "iopub.status.busy": "2020-11-06T17:41:32.703894Z",
     "iopub.status.idle": "2020-11-06T17:41:33.069254Z",
     "shell.execute_reply": "2020-11-06T17:41:33.069733Z"
    }
   },
   "outputs": [],
   "source": [
    "data = pd.read_csv(\"https://raw.githubusercontent.com/buckipr/Python/master/IPR_cleaned.csv\")"
   ]
  },
  {
   "cell_type": "code",
   "execution_count": 3,
   "metadata": {
    "execution": {
     "iopub.execute_input": "2020-11-06T17:41:33.080018Z",
     "iopub.status.busy": "2020-11-06T17:41:33.079149Z",
     "iopub.status.idle": "2020-11-06T17:41:33.091020Z",
     "shell.execute_reply": "2020-11-06T17:41:33.090477Z"
    }
   },
   "outputs": [
    {
     "data": {
      "text/html": [
       "<div>\n",
       "<style scoped>\n",
       "    .dataframe tbody tr th:only-of-type {\n",
       "        vertical-align: middle;\n",
       "    }\n",
       "\n",
       "    .dataframe tbody tr th {\n",
       "        vertical-align: top;\n",
       "    }\n",
       "\n",
       "    .dataframe thead th {\n",
       "        text-align: right;\n",
       "    }\n",
       "</style>\n",
       "<table border=\"1\" class=\"dataframe\">\n",
       "  <thead>\n",
       "    <tr style=\"text-align: right;\">\n",
       "      <th></th>\n",
       "      <th>OBJECTID</th>\n",
       "      <th>StopId</th>\n",
       "      <th>StopName</th>\n",
       "      <th>Lat</th>\n",
       "      <th>Lon</th>\n",
       "      <th>Lat_front</th>\n",
       "      <th>Lat_back</th>\n",
       "      <th>Lon_front</th>\n",
       "      <th>Lon_back</th>\n",
       "      <th>y</th>\n",
       "      <th>x</th>\n",
       "      <th>Bethel</th>\n",
       "      <th>Over4000</th>\n",
       "    </tr>\n",
       "  </thead>\n",
       "  <tbody>\n",
       "    <tr>\n",
       "      <th>0</th>\n",
       "      <td>1</td>\n",
       "      <td>5217</td>\n",
       "      <td>PICKFORDE DR &amp; BETHEL RD</td>\n",
       "      <td>40065959</td>\n",
       "      <td>-83086596</td>\n",
       "      <td>40</td>\n",
       "      <td>65959</td>\n",
       "      <td>-83</td>\n",
       "      <td>86596</td>\n",
       "      <td>40.065959</td>\n",
       "      <td>-83.086596</td>\n",
       "      <td>1.0</td>\n",
       "      <td>1.0</td>\n",
       "    </tr>\n",
       "    <tr>\n",
       "      <th>1</th>\n",
       "      <td>2</td>\n",
       "      <td>6845</td>\n",
       "      <td>2425 BETHEL RD</td>\n",
       "      <td>40064526</td>\n",
       "      <td>-83084106</td>\n",
       "      <td>40</td>\n",
       "      <td>64526</td>\n",
       "      <td>-83</td>\n",
       "      <td>84106</td>\n",
       "      <td>40.064526</td>\n",
       "      <td>-83.084106</td>\n",
       "      <td>1.0</td>\n",
       "      <td>1.0</td>\n",
       "    </tr>\n",
       "    <tr>\n",
       "      <th>2</th>\n",
       "      <td>3</td>\n",
       "      <td>5225</td>\n",
       "      <td>BETHEL RD &amp; WOOD RUN BLVD</td>\n",
       "      <td>40064408</td>\n",
       "      <td>-83080785</td>\n",
       "      <td>40</td>\n",
       "      <td>64408</td>\n",
       "      <td>-83</td>\n",
       "      <td>80785</td>\n",
       "      <td>40.064408</td>\n",
       "      <td>-83.080785</td>\n",
       "      <td>1.0</td>\n",
       "      <td>1.0</td>\n",
       "    </tr>\n",
       "    <tr>\n",
       "      <th>3</th>\n",
       "      <td>4</td>\n",
       "      <td>5609</td>\n",
       "      <td>BETHEL RD &amp; HEDGEROW RD</td>\n",
       "      <td>40064300</td>\n",
       "      <td>-83077475</td>\n",
       "      <td>40</td>\n",
       "      <td>64300</td>\n",
       "      <td>-83</td>\n",
       "      <td>77475</td>\n",
       "      <td>40.064300</td>\n",
       "      <td>-83.077475</td>\n",
       "      <td>1.0</td>\n",
       "      <td>1.0</td>\n",
       "    </tr>\n",
       "    <tr>\n",
       "      <th>4</th>\n",
       "      <td>5</td>\n",
       "      <td>5218</td>\n",
       "      <td>BETHEL RD &amp; DIERKER RD</td>\n",
       "      <td>40064184</td>\n",
       "      <td>-83074360</td>\n",
       "      <td>40</td>\n",
       "      <td>64184</td>\n",
       "      <td>-83</td>\n",
       "      <td>74360</td>\n",
       "      <td>40.064184</td>\n",
       "      <td>-83.074360</td>\n",
       "      <td>1.0</td>\n",
       "      <td>1.0</td>\n",
       "    </tr>\n",
       "  </tbody>\n",
       "</table>\n",
       "</div>"
      ],
      "text/plain": [
       "   OBJECTID  StopId                   StopName       Lat       Lon  Lat_front  \\\n",
       "0         1    5217   PICKFORDE DR & BETHEL RD  40065959 -83086596         40   \n",
       "1         2    6845             2425 BETHEL RD  40064526 -83084106         40   \n",
       "2         3    5225  BETHEL RD & WOOD RUN BLVD  40064408 -83080785         40   \n",
       "3         4    5609    BETHEL RD & HEDGEROW RD  40064300 -83077475         40   \n",
       "4         5    5218     BETHEL RD & DIERKER RD  40064184 -83074360         40   \n",
       "\n",
       "   Lat_back  Lon_front  Lon_back          y          x  Bethel  Over4000  \n",
       "0     65959        -83     86596  40.065959 -83.086596     1.0       1.0  \n",
       "1     64526        -83     84106  40.064526 -83.084106     1.0       1.0  \n",
       "2     64408        -83     80785  40.064408 -83.080785     1.0       1.0  \n",
       "3     64300        -83     77475  40.064300 -83.077475     1.0       1.0  \n",
       "4     64184        -83     74360  40.064184 -83.074360     1.0       1.0  "
      ]
     },
     "execution_count": 1,
     "metadata": {},
     "output_type": "execute_result"
    }
   ],
   "source": [
    "data.head()"
   ]
  },
  {
   "cell_type": "code",
   "execution_count": 4,
   "metadata": {
    "execution": {
     "iopub.execute_input": "2020-11-06T17:41:33.094950Z",
     "iopub.status.busy": "2020-11-06T17:41:33.094386Z",
     "iopub.status.idle": "2020-11-06T17:41:33.096900Z",
     "shell.execute_reply": "2020-11-06T17:41:33.097393Z"
    }
   },
   "outputs": [
    {
     "data": {
      "text/plain": [
       "(30, 13)"
      ]
     },
     "execution_count": 1,
     "metadata": {},
     "output_type": "execute_result"
    }
   ],
   "source": [
    "data.shape"
   ]
  },
  {
   "cell_type": "code",
   "execution_count": 5,
   "metadata": {
    "execution": {
     "iopub.execute_input": "2020-11-06T17:41:33.107609Z",
     "iopub.status.busy": "2020-11-06T17:41:33.107014Z",
     "iopub.status.idle": "2020-11-06T17:41:33.109417Z",
     "shell.execute_reply": "2020-11-06T17:41:33.109831Z"
    }
   },
   "outputs": [
    {
     "name": "stdout",
     "output_type": "stream",
     "text": [
      "<class 'pandas.core.frame.DataFrame'>\n",
      "RangeIndex: 30 entries, 0 to 29\n",
      "Data columns (total 13 columns):\n",
      " #   Column     Non-Null Count  Dtype  \n",
      "---  ------     --------------  -----  \n",
      " 0   OBJECTID   30 non-null     int64  \n",
      " 1   StopId     30 non-null     int64  \n",
      " 2   StopName   30 non-null     object \n",
      " 3   Lat        30 non-null     int64  \n",
      " 4   Lon        30 non-null     int64  \n",
      " 5   Lat_front  30 non-null     int64  \n",
      " 6   Lat_back   30 non-null     int64  \n",
      " 7   Lon_front  30 non-null     int64  \n",
      " 8   Lon_back   30 non-null     int64  \n",
      " 9   y          30 non-null     float64\n",
      " 10  x          30 non-null     float64\n",
      " 11  Bethel     30 non-null     float64\n",
      " 12  Over4000   30 non-null     float64\n",
      "dtypes: float64(4), int64(8), object(1)\n",
      "memory usage: 3.2+ KB\n"
     ]
    }
   ],
   "source": [
    "data.info()"
   ]
  },
  {
   "cell_type": "code",
   "execution_count": 6,
   "metadata": {
    "execution": {
     "iopub.execute_input": "2020-11-06T17:41:33.113221Z",
     "iopub.status.busy": "2020-11-06T17:41:33.112631Z",
     "iopub.status.idle": "2020-11-06T17:41:33.156714Z",
     "shell.execute_reply": "2020-11-06T17:41:33.156171Z"
    }
   },
   "outputs": [],
   "source": [
    "from helium import *"
   ]
  },
  {
   "cell_type": "code",
   "execution_count": 7,
   "metadata": {
    "execution": {
     "iopub.execute_input": "2020-11-06T17:41:33.162972Z",
     "iopub.status.busy": "2020-11-06T17:41:33.159437Z",
     "iopub.status.idle": "2020-11-06T17:41:38.052349Z",
     "shell.execute_reply": "2020-11-06T17:41:38.052798Z"
    }
   },
   "outputs": [
    {
     "data": {
      "text/plain": [
       "<selenium.webdriver.chrome.webdriver.WebDriver (session=\"d86905680ff905c4f32f494c7e2c4ed3\")>"
      ]
     },
     "execution_count": 1,
     "metadata": {},
     "output_type": "execute_result"
    }
   ],
   "source": [
    "start_chrome(\"https://geocoding.geo.census.gov/geocoder/geographies/coordinates?form\")"
   ]
  },
  {
   "cell_type": "code",
   "execution_count": 8,
   "metadata": {
    "execution": {
     "iopub.execute_input": "2020-11-06T17:41:38.057920Z",
     "iopub.status.busy": "2020-11-06T17:41:38.056679Z",
     "iopub.status.idle": "2020-11-06T17:41:38.201094Z",
     "shell.execute_reply": "2020-11-06T17:41:38.200628Z"
    }
   },
   "outputs": [],
   "source": [
    "click(\"x\")"
   ]
  },
  {
   "cell_type": "code",
   "execution_count": 9,
   "metadata": {
    "execution": {
     "iopub.execute_input": "2020-11-06T17:41:38.205419Z",
     "iopub.status.busy": "2020-11-06T17:41:38.204580Z",
     "iopub.status.idle": "2020-11-06T17:41:38.208352Z",
     "shell.execute_reply": "2020-11-06T17:41:38.207849Z"
    }
   },
   "outputs": [
    {
     "data": {
      "text/plain": [
       "-83.086596"
      ]
     },
     "execution_count": 1,
     "metadata": {},
     "output_type": "execute_result"
    }
   ],
   "source": [
    "data['x'][0]"
   ]
  },
  {
   "cell_type": "code",
   "execution_count": 10,
   "metadata": {
    "execution": {
     "iopub.execute_input": "2020-11-06T17:41:38.215466Z",
     "iopub.status.busy": "2020-11-06T17:41:38.214774Z",
     "iopub.status.idle": "2020-11-06T17:41:38.299207Z",
     "shell.execute_reply": "2020-11-06T17:41:38.299705Z"
    }
   },
   "outputs": [],
   "source": [
    "write(str(data['x'][0]))"
   ]
  },
  {
   "cell_type": "code",
   "execution_count": 11,
   "metadata": {
    "execution": {
     "iopub.execute_input": "2020-11-06T17:41:38.303632Z",
     "iopub.status.busy": "2020-11-06T17:41:38.302972Z",
     "iopub.status.idle": "2020-11-06T17:41:38.452444Z",
     "shell.execute_reply": "2020-11-06T17:41:38.452929Z"
    }
   },
   "outputs": [],
   "source": [
    "click(\"y\")"
   ]
  },
  {
   "cell_type": "code",
   "execution_count": 12,
   "metadata": {
    "execution": {
     "iopub.execute_input": "2020-11-06T17:41:38.457498Z",
     "iopub.status.busy": "2020-11-06T17:41:38.456663Z",
     "iopub.status.idle": "2020-11-06T17:41:38.528285Z",
     "shell.execute_reply": "2020-11-06T17:41:38.527660Z"
    }
   },
   "outputs": [],
   "source": [
    "write(str(data['y'][0]))"
   ]
  },
  {
   "cell_type": "code",
   "execution_count": 13,
   "metadata": {
    "execution": {
     "iopub.execute_input": "2020-11-06T17:41:38.532387Z",
     "iopub.status.busy": "2020-11-06T17:41:38.531769Z",
     "iopub.status.idle": "2020-11-06T17:41:46.460813Z",
     "shell.execute_reply": "2020-11-06T17:41:46.461451Z"
    }
   },
   "outputs": [],
   "source": [
    "click(\"Find\")"
   ]
  },
  {
   "cell_type": "code",
   "execution_count": 14,
   "metadata": {
    "execution": {
     "iopub.execute_input": "2020-11-06T17:41:46.465561Z",
     "iopub.status.busy": "2020-11-06T17:41:46.464960Z",
     "iopub.status.idle": "2020-11-06T17:41:46.560490Z",
     "shell.execute_reply": "2020-11-06T17:41:46.559961Z"
    }
   },
   "outputs": [
    {
     "name": "stdout",
     "output_type": "stream",
     "text": [
      "Geographies:\n",
      "2010 Census Blocks:\n",
      "SUFFIX:\n",
      "GEOID: 390490063951010\n",
      "CENTLAT: +40.0663314\n",
      "BLOCK: 1010\n",
      "AREAWATER: 0\n",
      "STATE: 39\n",
      "BASENAME: 1010\n",
      "OID: 210404059532693\n",
      "LSADC: BK\n",
      "FUNCSTAT: S\n",
      "INTPTLAT: +40.0663314\n",
      "NAME: Block 1010\n",
      "OBJECTID: 9515623\n",
      "TRACT: 006395\n",
      "CENTLON: -083.0898409\n",
      "BLKGRP: 1\n",
      "AREALAND: 191370\n",
      "INTPTLON: -083.0898409\n",
      "MTFCC: G5040\n",
      "LWBLKTYP: L\n",
      "COUNTY: 049\n",
      "States:\n",
      "status: Layer query encountered an error: org.springframework.dao.DataRetrievalFailureException: ArcGIS Error: missing required element for GeoLookup\n",
      "Counties:\n",
      "status: Layer query encountered an error: org.springframework.dao.DataRetrievalFailureException: ArcGIS Error: missing required element for GeoLookup\n",
      "Census Tracts:\n",
      "status: Layer query encountered an error: org.springframework.dao.DataRetrievalFailureException: ArcGIS Error: missing required element for GeoLookup\n"
     ]
    }
   ],
   "source": [
    "print(Text(\"2010 Census Blocks:\").value)"
   ]
  },
  {
   "cell_type": "code",
   "execution_count": 15,
   "metadata": {
    "execution": {
     "iopub.execute_input": "2020-11-06T17:41:46.564471Z",
     "iopub.status.busy": "2020-11-06T17:41:46.563817Z",
     "iopub.status.idle": "2020-11-06T17:41:46.652073Z",
     "shell.execute_reply": "2020-11-06T17:41:46.651614Z"
    }
   },
   "outputs": [
    {
     "data": {
      "text/plain": [
       "'TRACT: 006395'"
      ]
     },
     "execution_count": 1,
     "metadata": {},
     "output_type": "execute_result"
    }
   ],
   "source": [
    "Text(\"2010 Census Blocks:\").value.split(\"\\n\")[15]"
   ]
  },
  {
   "cell_type": "code",
   "execution_count": 16,
   "metadata": {
    "execution": {
     "iopub.execute_input": "2020-11-06T17:41:46.657183Z",
     "iopub.status.busy": "2020-11-06T17:41:46.656123Z",
     "iopub.status.idle": "2020-11-06T17:41:46.744941Z",
     "shell.execute_reply": "2020-11-06T17:41:46.745381Z"
    }
   },
   "outputs": [
    {
     "data": {
      "text/plain": [
       "'006395'"
      ]
     },
     "execution_count": 1,
     "metadata": {},
     "output_type": "execute_result"
    }
   ],
   "source": [
    "Text(\"2010 Census Blocks:\").value.split(\"\\n\")[15].split(\": \")[1]"
   ]
  },
  {
   "cell_type": "code",
   "execution_count": 17,
   "metadata": {
    "execution": {
     "iopub.execute_input": "2020-11-06T17:41:46.749561Z",
     "iopub.status.busy": "2020-11-06T17:41:46.748957Z",
     "iopub.status.idle": "2020-11-06T17:41:46.844677Z",
     "shell.execute_reply": "2020-11-06T17:41:46.845274Z"
    }
   },
   "outputs": [],
   "source": [
    "Tract = Text(\"2010 Census Blocks:\").value.split(\"\\n\")[15].split(\": \")[1]"
   ]
  },
  {
   "cell_type": "code",
   "execution_count": 18,
   "metadata": {
    "execution": {
     "iopub.execute_input": "2020-11-06T17:41:46.852085Z",
     "iopub.status.busy": "2020-11-06T17:41:46.851370Z",
     "iopub.status.idle": "2020-11-06T17:41:46.853777Z",
     "shell.execute_reply": "2020-11-06T17:41:46.854311Z"
    }
   },
   "outputs": [],
   "source": [
    "tract_list = []\n",
    "def get_tract(x, y):\n",
    "    start_chrome(\"https://geocoding.geo.census.gov/geocoder/geographies/coordinates?form\", headless=True)\n",
    "    click('x')\n",
    "    write(str(x))\n",
    "    click('y')\n",
    "    write(str(y))\n",
    "    click('Find')\n",
    "    if len(Text(\"2010 Census Blocks:\").value.split(\"\\n\")) < 16:\n",
    "        click('Find')\n",
    "    Tract = Text(\"2010 Census Blocks:\").value.split(\"\\n\")[15].split(\": \")[1]\n",
    "    tract_list.append(Tract)\n",
    "    kill_browser()"
   ]
  },
  {
   "cell_type": "code",
   "execution_count": 19,
   "metadata": {
    "execution": {
     "iopub.execute_input": "2020-11-06T17:41:46.859017Z",
     "iopub.status.busy": "2020-11-06T17:41:46.858378Z",
     "iopub.status.idle": "2020-11-06T17:41:46.921200Z",
     "shell.execute_reply": "2020-11-06T17:41:46.920608Z"
    }
   },
   "outputs": [],
   "source": [
    "kill_browser()"
   ]
  },
  {
   "cell_type": "code",
   "execution_count": 20,
   "metadata": {
    "execution": {
     "iopub.execute_input": "2020-11-06T17:41:46.925000Z",
     "iopub.status.busy": "2020-11-06T17:41:46.924443Z",
     "iopub.status.idle": "2020-11-06T17:42:00.221107Z",
     "shell.execute_reply": "2020-11-06T17:42:00.220314Z"
    }
   },
   "outputs": [],
   "source": [
    "get_tract(\"-83\", \"40\")"
   ]
  },
  {
   "cell_type": "code",
   "execution_count": 21,
   "metadata": {
    "execution": {
     "iopub.execute_input": "2020-11-06T17:42:00.227982Z",
     "iopub.status.busy": "2020-11-06T17:42:00.226942Z",
     "iopub.status.idle": "2020-11-06T17:42:00.230585Z",
     "shell.execute_reply": "2020-11-06T17:42:00.231188Z"
    }
   },
   "outputs": [
    {
     "data": {
      "text/plain": [
       "['001300']"
      ]
     },
     "execution_count": 1,
     "metadata": {},
     "output_type": "execute_result"
    }
   ],
   "source": [
    "tract_list"
   ]
  },
  {
   "cell_type": "code",
   "execution_count": 22,
   "metadata": {
    "execution": {
     "iopub.execute_input": "2020-11-06T17:42:00.237392Z",
     "iopub.status.busy": "2020-11-06T17:42:00.236064Z",
     "iopub.status.idle": "2020-11-06T17:42:00.242788Z",
     "shell.execute_reply": "2020-11-06T17:42:00.243293Z"
    }
   },
   "outputs": [
    {
     "name": "stdout",
     "output_type": "stream",
     "text": [
      "0\n",
      "1\n",
      "2\n",
      "3\n",
      "4\n",
      "5\n",
      "6\n",
      "7\n",
      "8\n",
      "9\n",
      "10\n",
      "11\n",
      "12\n",
      "13\n",
      "14\n",
      "15\n",
      "16\n",
      "17\n",
      "18\n",
      "19\n",
      "20\n",
      "21\n",
      "22\n",
      "23\n",
      "24\n",
      "25\n",
      "26\n",
      "27\n",
      "28\n",
      "29\n"
     ]
    }
   ],
   "source": [
    "for i in range(len(data)):\n",
    "    print(i)"
   ]
  },
  {
   "cell_type": "code",
   "execution_count": 23,
   "metadata": {
    "execution": {
     "iopub.execute_input": "2020-11-06T17:42:00.247791Z",
     "iopub.status.busy": "2020-11-06T17:42:00.247138Z",
     "iopub.status.idle": "2020-11-06T17:48:55.276467Z",
     "shell.execute_reply": "2020-11-06T17:48:55.276914Z"
    }
   },
   "outputs": [
    {
     "name": "stdout",
     "output_type": "stream",
     "text": [
      "Iteration #0: 006395\n",
      "Iteration #1: 006395\n",
      "Iteration #2: 006353\n",
      "Iteration #3: 006353\n",
      "Iteration #4: 006353\n",
      "Iteration #5: 006353\n",
      "Iteration #6: 006351\n",
      "Iteration #7: 006351\n",
      "Iteration #8: 006351\n",
      "Iteration #9: 006351\n",
      "Iteration #10: 006351\n",
      "Iteration #11: 006352\n",
      "Iteration #12: 006352\n",
      "Iteration #13: 006321\n",
      "Iteration #14: 006321\n",
      "Iteration #15: 006321\n",
      "Iteration #16: 006321\n",
      "Iteration #17: 006321\n",
      "Iteration #18: 006323\n",
      "Iteration #19: 007811\n",
      "Iteration #20: 007811\n",
      "Iteration #21: 007812\n",
      "Iteration #22: 007812\n",
      "Iteration #23: 007820\n",
      "Iteration #24: 007820\n",
      "Iteration #25: 007820\n",
      "Iteration #26: 007820\n",
      "Iteration #27: 007820\n",
      "Iteration #28: 001122\n",
      "Iteration #29: 001122\n"
     ]
    }
   ],
   "source": [
    "for i in range(len(data)):\n",
    "    get_tract(data['x'][i], data['y'][i])\n",
    "    print(f\"Iteration #{i}: {tract_list[-1]}\")"
   ]
  },
  {
   "cell_type": "code",
   "execution_count": 24,
   "metadata": {
    "execution": {
     "iopub.execute_input": "2020-11-06T17:48:55.281461Z",
     "iopub.status.busy": "2020-11-06T17:48:55.280827Z",
     "iopub.status.idle": "2020-11-06T17:48:55.283799Z",
     "shell.execute_reply": "2020-11-06T17:48:55.284351Z"
    }
   },
   "outputs": [
    {
     "data": {
      "text/plain": [
       "['001300',\n",
       " '006395',\n",
       " '006395',\n",
       " '006353',\n",
       " '006353',\n",
       " '006353',\n",
       " '006353',\n",
       " '006351',\n",
       " '006351',\n",
       " '006351',\n",
       " '006351',\n",
       " '006351',\n",
       " '006352',\n",
       " '006352',\n",
       " '006321',\n",
       " '006321',\n",
       " '006321',\n",
       " '006321',\n",
       " '006321',\n",
       " '006323',\n",
       " '007811',\n",
       " '007811',\n",
       " '007812',\n",
       " '007812',\n",
       " '007820',\n",
       " '007820',\n",
       " '007820',\n",
       " '007820',\n",
       " '007820',\n",
       " '001122',\n",
       " '001122']"
      ]
     },
     "execution_count": 1,
     "metadata": {},
     "output_type": "execute_result"
    }
   ],
   "source": [
    "tract_list"
   ]
  },
  {
   "cell_type": "code",
   "execution_count": 25,
   "metadata": {
    "execution": {
     "iopub.execute_input": "2020-11-06T17:48:55.288741Z",
     "iopub.status.busy": "2020-11-06T17:48:55.287905Z",
     "iopub.status.idle": "2020-11-06T17:48:55.291540Z",
     "shell.execute_reply": "2020-11-06T17:48:55.292141Z"
    }
   },
   "outputs": [
    {
     "data": {
      "text/plain": [
       "31"
      ]
     },
     "execution_count": 1,
     "metadata": {},
     "output_type": "execute_result"
    }
   ],
   "source": [
    "len(tract_list)"
   ]
  },
  {
   "cell_type": "code",
   "execution_count": 26,
   "metadata": {
    "execution": {
     "iopub.execute_input": "2020-11-06T17:48:55.297619Z",
     "iopub.status.busy": "2020-11-06T17:48:55.296988Z",
     "iopub.status.idle": "2020-11-06T17:48:55.309295Z",
     "shell.execute_reply": "2020-11-06T17:48:55.308699Z"
    }
   },
   "outputs": [
    {
     "data": {
      "text/html": [
       "<div>\n",
       "<style scoped>\n",
       "    .dataframe tbody tr th:only-of-type {\n",
       "        vertical-align: middle;\n",
       "    }\n",
       "\n",
       "    .dataframe tbody tr th {\n",
       "        vertical-align: top;\n",
       "    }\n",
       "\n",
       "    .dataframe thead th {\n",
       "        text-align: right;\n",
       "    }\n",
       "</style>\n",
       "<table border=\"1\" class=\"dataframe\">\n",
       "  <thead>\n",
       "    <tr style=\"text-align: right;\">\n",
       "      <th></th>\n",
       "      <th>0</th>\n",
       "    </tr>\n",
       "  </thead>\n",
       "  <tbody>\n",
       "    <tr>\n",
       "      <th>0</th>\n",
       "      <td>001300</td>\n",
       "    </tr>\n",
       "    <tr>\n",
       "      <th>1</th>\n",
       "      <td>006395</td>\n",
       "    </tr>\n",
       "    <tr>\n",
       "      <th>2</th>\n",
       "      <td>006395</td>\n",
       "    </tr>\n",
       "    <tr>\n",
       "      <th>3</th>\n",
       "      <td>006353</td>\n",
       "    </tr>\n",
       "    <tr>\n",
       "      <th>4</th>\n",
       "      <td>006353</td>\n",
       "    </tr>\n",
       "    <tr>\n",
       "      <th>5</th>\n",
       "      <td>006353</td>\n",
       "    </tr>\n",
       "    <tr>\n",
       "      <th>6</th>\n",
       "      <td>006353</td>\n",
       "    </tr>\n",
       "    <tr>\n",
       "      <th>7</th>\n",
       "      <td>006351</td>\n",
       "    </tr>\n",
       "    <tr>\n",
       "      <th>8</th>\n",
       "      <td>006351</td>\n",
       "    </tr>\n",
       "    <tr>\n",
       "      <th>9</th>\n",
       "      <td>006351</td>\n",
       "    </tr>\n",
       "    <tr>\n",
       "      <th>10</th>\n",
       "      <td>006351</td>\n",
       "    </tr>\n",
       "    <tr>\n",
       "      <th>11</th>\n",
       "      <td>006351</td>\n",
       "    </tr>\n",
       "    <tr>\n",
       "      <th>12</th>\n",
       "      <td>006352</td>\n",
       "    </tr>\n",
       "    <tr>\n",
       "      <th>13</th>\n",
       "      <td>006352</td>\n",
       "    </tr>\n",
       "    <tr>\n",
       "      <th>14</th>\n",
       "      <td>006321</td>\n",
       "    </tr>\n",
       "    <tr>\n",
       "      <th>15</th>\n",
       "      <td>006321</td>\n",
       "    </tr>\n",
       "    <tr>\n",
       "      <th>16</th>\n",
       "      <td>006321</td>\n",
       "    </tr>\n",
       "    <tr>\n",
       "      <th>17</th>\n",
       "      <td>006321</td>\n",
       "    </tr>\n",
       "    <tr>\n",
       "      <th>18</th>\n",
       "      <td>006321</td>\n",
       "    </tr>\n",
       "    <tr>\n",
       "      <th>19</th>\n",
       "      <td>006323</td>\n",
       "    </tr>\n",
       "    <tr>\n",
       "      <th>20</th>\n",
       "      <td>007811</td>\n",
       "    </tr>\n",
       "    <tr>\n",
       "      <th>21</th>\n",
       "      <td>007811</td>\n",
       "    </tr>\n",
       "    <tr>\n",
       "      <th>22</th>\n",
       "      <td>007812</td>\n",
       "    </tr>\n",
       "    <tr>\n",
       "      <th>23</th>\n",
       "      <td>007812</td>\n",
       "    </tr>\n",
       "    <tr>\n",
       "      <th>24</th>\n",
       "      <td>007820</td>\n",
       "    </tr>\n",
       "    <tr>\n",
       "      <th>25</th>\n",
       "      <td>007820</td>\n",
       "    </tr>\n",
       "    <tr>\n",
       "      <th>26</th>\n",
       "      <td>007820</td>\n",
       "    </tr>\n",
       "    <tr>\n",
       "      <th>27</th>\n",
       "      <td>007820</td>\n",
       "    </tr>\n",
       "    <tr>\n",
       "      <th>28</th>\n",
       "      <td>007820</td>\n",
       "    </tr>\n",
       "    <tr>\n",
       "      <th>29</th>\n",
       "      <td>001122</td>\n",
       "    </tr>\n",
       "    <tr>\n",
       "      <th>30</th>\n",
       "      <td>001122</td>\n",
       "    </tr>\n",
       "  </tbody>\n",
       "</table>\n",
       "</div>"
      ],
      "text/plain": [
       "         0\n",
       "0   001300\n",
       "1   006395\n",
       "2   006395\n",
       "3   006353\n",
       "4   006353\n",
       "5   006353\n",
       "6   006353\n",
       "7   006351\n",
       "8   006351\n",
       "9   006351\n",
       "10  006351\n",
       "11  006351\n",
       "12  006352\n",
       "13  006352\n",
       "14  006321\n",
       "15  006321\n",
       "16  006321\n",
       "17  006321\n",
       "18  006321\n",
       "19  006323\n",
       "20  007811\n",
       "21  007811\n",
       "22  007812\n",
       "23  007812\n",
       "24  007820\n",
       "25  007820\n",
       "26  007820\n",
       "27  007820\n",
       "28  007820\n",
       "29  001122\n",
       "30  001122"
      ]
     },
     "execution_count": 1,
     "metadata": {},
     "output_type": "execute_result"
    }
   ],
   "source": [
    "pd.DataFrame(tract_list)"
   ]
  },
  {
   "cell_type": "code",
   "execution_count": 27,
   "metadata": {
    "execution": {
     "iopub.execute_input": "2020-11-06T17:48:55.314467Z",
     "iopub.status.busy": "2020-11-06T17:48:55.313709Z",
     "iopub.status.idle": "2020-11-06T17:48:55.316533Z",
     "shell.execute_reply": "2020-11-06T17:48:55.315887Z"
    }
   },
   "outputs": [],
   "source": [
    "data['tract'] = pd.DataFrame(tract_list)"
   ]
  },
  {
   "cell_type": "code",
   "execution_count": 28,
   "metadata": {
    "execution": {
     "iopub.execute_input": "2020-11-06T17:48:55.332083Z",
     "iopub.status.busy": "2020-11-06T17:48:55.331370Z",
     "iopub.status.idle": "2020-11-06T17:48:55.334860Z",
     "shell.execute_reply": "2020-11-06T17:48:55.334329Z"
    }
   },
   "outputs": [
    {
     "data": {
      "text/html": [
       "<div>\n",
       "<style scoped>\n",
       "    .dataframe tbody tr th:only-of-type {\n",
       "        vertical-align: middle;\n",
       "    }\n",
       "\n",
       "    .dataframe tbody tr th {\n",
       "        vertical-align: top;\n",
       "    }\n",
       "\n",
       "    .dataframe thead th {\n",
       "        text-align: right;\n",
       "    }\n",
       "</style>\n",
       "<table border=\"1\" class=\"dataframe\">\n",
       "  <thead>\n",
       "    <tr style=\"text-align: right;\">\n",
       "      <th></th>\n",
       "      <th>OBJECTID</th>\n",
       "      <th>StopId</th>\n",
       "      <th>StopName</th>\n",
       "      <th>Lat</th>\n",
       "      <th>Lon</th>\n",
       "      <th>Lat_front</th>\n",
       "      <th>Lat_back</th>\n",
       "      <th>Lon_front</th>\n",
       "      <th>Lon_back</th>\n",
       "      <th>y</th>\n",
       "      <th>x</th>\n",
       "      <th>Bethel</th>\n",
       "      <th>Over4000</th>\n",
       "      <th>tract</th>\n",
       "    </tr>\n",
       "  </thead>\n",
       "  <tbody>\n",
       "    <tr>\n",
       "      <th>0</th>\n",
       "      <td>1</td>\n",
       "      <td>5217</td>\n",
       "      <td>PICKFORDE DR &amp; BETHEL RD</td>\n",
       "      <td>40065959</td>\n",
       "      <td>-83086596</td>\n",
       "      <td>40</td>\n",
       "      <td>65959</td>\n",
       "      <td>-83</td>\n",
       "      <td>86596</td>\n",
       "      <td>40.065959</td>\n",
       "      <td>-83.086596</td>\n",
       "      <td>1.0</td>\n",
       "      <td>1.0</td>\n",
       "      <td>001300</td>\n",
       "    </tr>\n",
       "    <tr>\n",
       "      <th>1</th>\n",
       "      <td>2</td>\n",
       "      <td>6845</td>\n",
       "      <td>2425 BETHEL RD</td>\n",
       "      <td>40064526</td>\n",
       "      <td>-83084106</td>\n",
       "      <td>40</td>\n",
       "      <td>64526</td>\n",
       "      <td>-83</td>\n",
       "      <td>84106</td>\n",
       "      <td>40.064526</td>\n",
       "      <td>-83.084106</td>\n",
       "      <td>1.0</td>\n",
       "      <td>1.0</td>\n",
       "      <td>006395</td>\n",
       "    </tr>\n",
       "    <tr>\n",
       "      <th>2</th>\n",
       "      <td>3</td>\n",
       "      <td>5225</td>\n",
       "      <td>BETHEL RD &amp; WOOD RUN BLVD</td>\n",
       "      <td>40064408</td>\n",
       "      <td>-83080785</td>\n",
       "      <td>40</td>\n",
       "      <td>64408</td>\n",
       "      <td>-83</td>\n",
       "      <td>80785</td>\n",
       "      <td>40.064408</td>\n",
       "      <td>-83.080785</td>\n",
       "      <td>1.0</td>\n",
       "      <td>1.0</td>\n",
       "      <td>006395</td>\n",
       "    </tr>\n",
       "    <tr>\n",
       "      <th>3</th>\n",
       "      <td>4</td>\n",
       "      <td>5609</td>\n",
       "      <td>BETHEL RD &amp; HEDGEROW RD</td>\n",
       "      <td>40064300</td>\n",
       "      <td>-83077475</td>\n",
       "      <td>40</td>\n",
       "      <td>64300</td>\n",
       "      <td>-83</td>\n",
       "      <td>77475</td>\n",
       "      <td>40.064300</td>\n",
       "      <td>-83.077475</td>\n",
       "      <td>1.0</td>\n",
       "      <td>1.0</td>\n",
       "      <td>006353</td>\n",
       "    </tr>\n",
       "    <tr>\n",
       "      <th>4</th>\n",
       "      <td>5</td>\n",
       "      <td>5218</td>\n",
       "      <td>BETHEL RD &amp; DIERKER RD</td>\n",
       "      <td>40064184</td>\n",
       "      <td>-83074360</td>\n",
       "      <td>40</td>\n",
       "      <td>64184</td>\n",
       "      <td>-83</td>\n",
       "      <td>74360</td>\n",
       "      <td>40.064184</td>\n",
       "      <td>-83.074360</td>\n",
       "      <td>1.0</td>\n",
       "      <td>1.0</td>\n",
       "      <td>006353</td>\n",
       "    </tr>\n",
       "  </tbody>\n",
       "</table>\n",
       "</div>"
      ],
      "text/plain": [
       "   OBJECTID  StopId                   StopName       Lat       Lon  Lat_front  \\\n",
       "0         1    5217   PICKFORDE DR & BETHEL RD  40065959 -83086596         40   \n",
       "1         2    6845             2425 BETHEL RD  40064526 -83084106         40   \n",
       "2         3    5225  BETHEL RD & WOOD RUN BLVD  40064408 -83080785         40   \n",
       "3         4    5609    BETHEL RD & HEDGEROW RD  40064300 -83077475         40   \n",
       "4         5    5218     BETHEL RD & DIERKER RD  40064184 -83074360         40   \n",
       "\n",
       "   Lat_back  Lon_front  Lon_back          y          x  Bethel  Over4000  \\\n",
       "0     65959        -83     86596  40.065959 -83.086596     1.0       1.0   \n",
       "1     64526        -83     84106  40.064526 -83.084106     1.0       1.0   \n",
       "2     64408        -83     80785  40.064408 -83.080785     1.0       1.0   \n",
       "3     64300        -83     77475  40.064300 -83.077475     1.0       1.0   \n",
       "4     64184        -83     74360  40.064184 -83.074360     1.0       1.0   \n",
       "\n",
       "    tract  \n",
       "0  001300  \n",
       "1  006395  \n",
       "2  006395  \n",
       "3  006353  \n",
       "4  006353  "
      ]
     },
     "execution_count": 1,
     "metadata": {},
     "output_type": "execute_result"
    }
   ],
   "source": [
    "data.head()"
   ]
  },
  {
   "cell_type": "code",
   "execution_count": 29,
   "metadata": {
    "execution": {
     "iopub.execute_input": "2020-11-06T17:48:55.340016Z",
     "iopub.status.busy": "2020-11-06T17:48:55.339367Z",
     "iopub.status.idle": "2020-11-06T17:48:55.341599Z",
     "shell.execute_reply": "2020-11-06T17:48:55.341062Z"
    }
   },
   "outputs": [],
   "source": [
    "output = data[['StopId', \"x\", 'y', \"tract\"]]"
   ]
  },
  {
   "cell_type": "code",
   "execution_count": 30,
   "metadata": {
    "execution": {
     "iopub.execute_input": "2020-11-06T17:48:55.345947Z",
     "iopub.status.busy": "2020-11-06T17:48:55.345111Z",
     "iopub.status.idle": "2020-11-06T17:48:55.349866Z",
     "shell.execute_reply": "2020-11-06T17:48:55.349430Z"
    }
   },
   "outputs": [],
   "source": [
    "output.to_csv(\"IPR_finaldata.csv\", index=False)"
   ]
  }
 ],
 "metadata": {
  "kernelspec": {
   "display_name": "Python 3",
   "language": "python",
   "name": "python3"
  },
  "language_info": {
   "codemirror_mode": {
    "name": "ipython",
    "version": 3
   },
   "file_extension": ".py",
   "mimetype": "text/x-python",
   "name": "python",
   "nbconvert_exporter": "python",
   "pygments_lexer": "ipython3",
   "version": "3.8.6+"
  }
 },
 "nbformat": 4,
 "nbformat_minor": 4
}
